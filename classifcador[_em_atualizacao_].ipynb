{
  "nbformat": 4,
  "nbformat_minor": 0,
  "metadata": {
    "colab": {
      "provenance": [],
      "gpuType": "T4",
      "authorship_tag": "ABX9TyOVWDYzJZg886Je6GYfd96F",
      "include_colab_link": true
    },
    "kernelspec": {
      "name": "python3",
      "display_name": "Python 3"
    },
    "language_info": {
      "name": "python"
    },
    "accelerator": "GPU"
  },
  "cells": [
    {
      "cell_type": "markdown",
      "metadata": {
        "id": "view-in-github",
        "colab_type": "text"
      },
      "source": [
        "<a href=\"https://colab.research.google.com/github/rafaelrpq/classificadores/blob/main/classifcador%5B_em_atualizacao_%5D.ipynb\" target=\"_parent\"><img src=\"https://colab.research.google.com/assets/colab-badge.svg\" alt=\"Open In Colab\"/></a>"
      ]
    },
    {
      "cell_type": "markdown",
      "source": [
        "# Atenção\n",
        "\n",
        "- Para melhor desempenho durante a execução no Google Colab vá em *Ambiente de execução* » *Alterar o tipo de ambiente de execução* e selecione *T4 GPU*"
      ],
      "metadata": {
        "id": "ns2AWYDUec0R"
      }
    },
    {
      "cell_type": "markdown",
      "source": [
        "\n",
        "- [x] adicionar metricas TP - TN - FP - FN\n",
        "- [ ]\n",
        "\n"
      ],
      "metadata": {
        "id": "ydphpquW7zvj"
      }
    },
    {
      "cell_type": "code",
      "execution_count": null,
      "metadata": {
        "id": "deZTcaeweQBA"
      },
      "outputs": [],
      "source": [
        "!git clone https://github.com/iman2693/CTCB.git > /dev/null 2>&1\n",
        "!cp -r CTCB/dataset ./"
      ]
    },
    {
      "cell_type": "code",
      "source": [
        "import os\n",
        "import numpy as np\n",
        "from sklearn.model_selection import train_test_split\n",
        "from sklearn.model_selection import KFold\n",
        "from sklearn.svm import SVC\n",
        "from sklearn.neural_network import MLPClassifier\n",
        "from sklearn.ensemble import RandomForestClassifier\n",
        "from sklearn.neighbors import KNeighborsClassifier\n",
        "from sklearn.metrics import accuracy_score, precision_score, recall_score, f1_score\n",
        "from transformers import AutoFeatureExtractor, AutoModel\n",
        "import torch\n",
        "from torchvision import datasets, transforms\n",
        "from torch.utils.data import DataLoader, Subset, random_split\n",
        "from sklearn.metrics import confusion_matrix, ConfusionMatrixDisplay\n",
        "import matplotlib.pyplot as plt\n",
        "\n",
        "import warnings"
      ],
      "metadata": {
        "id": "CkGMhL3KxM8O"
      },
      "execution_count": null,
      "outputs": []
    },
    {
      "cell_type": "code",
      "source": [
        "class FeatureExtractor :\n",
        "    def __init__ (self, vit) :\n",
        "        self.model = AutoModel.from_pretrained (vit).to (device)\n",
        "        self.model.eval ()\n",
        "\n",
        "    def extract_features (self, dataloader):\n",
        "        features, labels = [], []\n",
        "        for inputs, targets in dataloader:\n",
        "            inputs = inputs.to (device)  # Mover inputs para o dispositivo\n",
        "            with torch.no_grad ():\n",
        "                outputs = self.model (inputs)[\"last_hidden_state\"]\n",
        "                cls_tokens = outputs[:, 0, :].cpu ().numpy ()  # Mover para CPU para conversão em numpy\n",
        "            features.append (cls_tokens)\n",
        "            labels.append (targets.numpy ())\n",
        "        return np.vstack (features), np.hstack (labels)"
      ],
      "metadata": {
        "id": "6Yb66i7XxTlv"
      },
      "execution_count": null,
      "outputs": []
    },
    {
      "cell_type": "code",
      "source": [
        "class Classifier :\n",
        "    def __init__ (self, name, clf) :\n",
        "        self.name = name\n",
        "        self.clf = clf\n",
        "\n",
        "    def train_predict (self, X_train, y_train, X_val, y_val, hyperparameters) :\n",
        "        data = []\n",
        "        for params in hyperparameters[self.name]:\n",
        "            clf = self.clf (**params)\n",
        "            clf.fit (X_train, y_train)\n",
        "            y_pred = clf.predict (X_val)\n",
        "\n",
        "            data.append ({\n",
        "                \"params\" :  params,\n",
        "                \"y_pred\" : y_pred,\n",
        "                \"y_val\"  : y_val\n",
        "            })\n",
        "\n",
        "        return data\n",
        "\n",
        "    def test_predict (self, X_test, y_test, hyperparameters) :\n",
        "        data = []\n",
        "        for params in hyperparameters[self.name]:\n",
        "            clf = self.clf (**params)\n",
        "            clf.fit (X_test, y_test)\n",
        "            y_pred = clf.predict (X_test)\n",
        "\n",
        "            data.append ({\n",
        "                \"params\" :  params,\n",
        "                \"y_pred\" : y_pred,\n",
        "                \"y_val\"  : y_test\n",
        "            })\n",
        "\n",
        "        return data"
      ],
      "metadata": {
        "id": "zTSepfZDXMQ_"
      },
      "execution_count": null,
      "outputs": []
    },
    {
      "cell_type": "code",
      "source": [
        "def train_evaluate (train) :\n",
        "    results = []\n",
        "    for fold in train :\n",
        "        results.append ([])\n",
        "        for data in fold :\n",
        "            y_pred = data[\"y_pred\"]\n",
        "            y_val = data[\"y_val\"]\n",
        "            acc = accuracy_score (y_val, y_pred)\n",
        "            precision = precision_score (y_val, y_pred, average=\"macro\", zero_division=0)\n",
        "            recall = recall_score (y_val, y_pred, average=\"macro\", zero_division=0)\n",
        "            f1 = f1_score (y_val, y_pred, average=\"macro\")\n",
        "\n",
        "            results.append ({\n",
        "                \"param\" :  data[\"params\"],\n",
        "                \"accuracy\": acc,\n",
        "                \"precision\": precision,\n",
        "                \"recall\": recall,\n",
        "                \"f1\": f1\n",
        "            })\n",
        "    return results"
      ],
      "metadata": {
        "id": "aUNZds79W-H-"
      },
      "execution_count": null,
      "outputs": []
    },
    {
      "cell_type": "code",
      "source": [
        "# Configurar dispositivo (GPU se disponível)\n",
        "device = torch.device (\"cuda\" if torch.cuda.is_available () else \"cpu\")\n",
        "print (f\"Usando o dispositivo: {device}\")\n",
        "\n",
        "# Hiperparametros\n",
        "hyperparameters = {\n",
        "    \"SVM\": [{\"C\": c} for c in [0.1, 1, 10, 100, 1000]],\n",
        "    \"MLP\": [{\"hidden_layer_sizes\": hls} for hls in [(50,), (100,), (50, 50), (100, 100), (200, 200)]],\n",
        "    \"RandomForest\": [{\"n_estimators\": n} for n in [10, 50, 100, 200, 500]],\n",
        "    \"KNN\": [{\"n_neighbors\": k} for k in [1, 3, 5, 7, 9]]\n",
        "}\n",
        "\n",
        "\n",
        "# Transformação das imagens\n",
        "transform = transforms.Compose ([\n",
        "    transforms.Resize ((224, 224)),\n",
        "    transforms.ToTensor (),\n",
        "    transforms.Normalize (mean=[0.5, 0.5, 0.5], std=[0.5, 0.5, 0.5])\n",
        "])\n",
        "\n",
        "# Diretório das imagens\n",
        "data_dir = \"./dataset/Train/\"\n",
        "\n",
        "# Carregar o conjunto de dados\n",
        "dataset = datasets.ImageFolder (root=data_dir, transform=transform)\n",
        "\n",
        "# Dividir o dataset em treino e teste\n",
        "test_ratio = 0.2\n",
        "train_dataset, test_dataset = train_test_split(dataset, test_size=test_ratio, random_state=42)\n",
        "\n",
        "# KFold\n",
        "k_folds = 5\n",
        "batch_size = 16\n",
        "\n",
        "kf = KFold (n_splits=k_folds, shuffle=True, random_state=42)\n",
        "\n",
        "warnings.filterwarnings(\"ignore\")\n",
        "\n",
        "# Instanciando Extratores de Caracteristicas baseados em ViT Models\n",
        "dino = FeatureExtractor(\"facebook/dino-vitb8\")\n",
        "# vitB = FeatureExtractor(\"google/vit-base-patch16-224\")\n",
        "# vitL = FeatureExtractor(\"google/vit-large-patch16-224\")\n",
        "\n",
        "# Instanciando Classificadores\n",
        "classifiers = {\n",
        "    'svm' : Classifier(\"SVM\", SVC),\n",
        "    'mlp' : Classifier(\"MLP\", MLPClassifier),\n",
        "    'rf'  : Classifier(\"RandomForest\", RandomForestClassifier),\n",
        "    'knn' : Classifier(\"KNN\", KNeighborsClassifier),\n",
        "}\n",
        "\n",
        "dino_train = {\n",
        "    'svm' : [],\n",
        "    'mlp' : [],\n",
        "    'rf'  : [],\n",
        "    'knn' : [],\n",
        "}\n",
        "# vitB_train = {\n",
        "#     'svm' : [],\n",
        "#     'mlp' : [],\n",
        "#     'rf'  : [],\n",
        "#     'knn' : [],\n",
        "# }\n",
        "# vitL_train = {\n",
        "#     'svm' : [],\n",
        "#     'mlp' : [],\n",
        "#     'rf'  : [],\n",
        "#     'knn' : [],\n",
        "# }"
      ],
      "metadata": {
        "id": "3sCLaHpSeRLL"
      },
      "execution_count": null,
      "outputs": []
    },
    {
      "source": [
        "# Rotina de treinamento\n",
        "for fold, (train_idx, val_idx) in enumerate(kf.split(train_dataset)):\n",
        "    print(f\"Fold {fold + 1}/{k_folds}\")\n",
        "\n",
        "    # Subsets\n",
        "    train_subset = Subset(train_dataset, train_idx)\n",
        "    val_subset = Subset(train_dataset, val_idx)\n",
        "\n",
        "    # DataLoaders\n",
        "    train_loader = DataLoader(train_subset, batch_size=batch_size, shuffle=True)\n",
        "    val_loader = DataLoader(val_subset, batch_size=batch_size, shuffle=False)\n",
        "\n",
        "    # Extrair características\n",
        "    X_train, y_train = dino.extract_features (train_loader)\n",
        "    X_val, y_val = dino.extract_features (val_loader)\n",
        "\n",
        "    # Estrutura para armazenar resultados por fold\n",
        "    fold_results = {\n",
        "        'svm' : [],\n",
        "        'mlp' : [],\n",
        "        'rf'  : [],\n",
        "        'knn' : [],\n",
        "    }\n",
        "\n",
        "    for classifier_name, classifier_instance in classifiers.items():\n",
        "        train_data = classifier_instance.train_predict(X_train, y_train, X_val, y_val, hyperparameters)\n",
        "        for data in train_data:\n",
        "            y_pred = data[\"y_pred\"]\n",
        "            y_val = data[\"y_val\"]\n",
        "            acc = accuracy_score(y_val, y_pred)\n",
        "            precision = precision_score(y_val, y_pred, average=\"macro\", zero_division=0)\n",
        "            recall = recall_score(y_val, y_pred, average=\"macro\", zero_division=0)\n",
        "            f1 = f1_score(y_val, y_pred, average=\"macro\")\n",
        "\n",
        "            fold_results[classifier_name].append({\n",
        "                \"params\": data[\"params\"],\n",
        "                \"accuracy\": acc,\n",
        "                \"precision\": precision,\n",
        "                \"recall\": recall,\n",
        "                \"f1\": f1\n",
        "            })\n",
        "\n",
        "    # Adicionar os resultados do fold à estrutura geral\n",
        "    for classifier_name in dino_train:\n",
        "        dino_train[classifier_name].append(fold_results[classifier_name])"
      ],
      "cell_type": "code",
      "metadata": {
        "id": "qP3YpwJgRJtn"
      },
      "execution_count": null,
      "outputs": []
    },
    {
      "cell_type": "code",
      "source": [
        "print(dino_train['svm'])"
      ],
      "metadata": {
        "id": "T9xoTb7JJxKE"
      },
      "execution_count": null,
      "outputs": []
    },
    {
      "cell_type": "code",
      "source": [
        "test_loader = DataLoader(test_dataset, batch_size=batch_size, shuffle=False)\n",
        "X_test, y_test = dino.extract_features(test_loader)\n",
        "\n",
        "svm_test = classifiers['svm'].test_predict (X_test, y_test, hyperparameters)\n",
        "mlp_test = classifiers['mlp'].test_predict (X_test, y_test, hyperparameters)\n",
        "rf_test  = classifiers['rf'].test_predict (X_test, y_test, hyperparameters)\n",
        "knn_test = classifiers['knn'].test_predict (X_test, y_test, hyperparameters)"
      ],
      "metadata": {
        "id": "5FbwkFatsgE-"
      },
      "execution_count": null,
      "outputs": []
    },
    {
      "cell_type": "code",
      "source": [
        "def test_evaluate (test) :\n",
        "    results = []\n",
        "    for data in test :\n",
        "        y_pred = data[\"y_pred\"]\n",
        "        y_val = data[\"y_val\"]\n",
        "        acc = accuracy_score (y_val, y_pred)\n",
        "        precision = precision_score (y_val, y_pred, average=\"macro\", zero_division=0)\n",
        "        recall = recall_score (y_val, y_pred, average=\"macro\", zero_division=0)\n",
        "        f1 = f1_score (y_val, y_pred, average=\"macro\")\n",
        "\n",
        "        results.append ({\n",
        "            \"param\" :  data[\"params\"],\n",
        "            \"accuracy\": acc,\n",
        "            \"precision\": precision,\n",
        "            \"recall\": recall,\n",
        "            \"f1\": f1\n",
        "        })\n",
        "    return results\n",
        "\n"
      ],
      "metadata": {
        "id": "9m9DTn7XDI1z",
        "collapsed": true
      },
      "execution_count": null,
      "outputs": []
    },
    {
      "cell_type": "code",
      "source": [
        "test_evaluate (svm_test)"
      ],
      "metadata": {
        "id": "iMv1rm-zVWX-"
      },
      "execution_count": null,
      "outputs": []
    },
    {
      "cell_type": "code",
      "source": [
        "test_evaluate (mlp_test)"
      ],
      "metadata": {
        "id": "GmaAmG8kWWRA"
      },
      "execution_count": null,
      "outputs": []
    },
    {
      "cell_type": "code",
      "source": [
        "test_evaluate (rf_test)"
      ],
      "metadata": {
        "id": "F115-PWYWfh7"
      },
      "execution_count": null,
      "outputs": []
    },
    {
      "cell_type": "code",
      "source": [
        "test_evaluate (knn_test)"
      ],
      "metadata": {
        "id": "d4IqVhsvWjVs"
      },
      "execution_count": null,
      "outputs": []
    },
    {
      "cell_type": "code",
      "source": [
        "def gerar_matriz_confusao(data):\n",
        "\n",
        "    y_pred = data[\"y_pred\"]\n",
        "    y_val = data[\"y_val\"]\n",
        "\n",
        "    matriz_confusao = confusion_matrix(y_val, y_pred)\n",
        "    disp = ConfusionMatrixDisplay(confusion_matrix=matriz_confusao)\n",
        "    disp.plot(cmap=plt.cm.Blues)\n",
        "    plt.show()\n",
        "    # return matriz_confusao"
      ],
      "metadata": {
        "id": "mZpDlOxvYBJh"
      },
      "execution_count": null,
      "outputs": []
    },
    {
      "cell_type": "code",
      "source": [
        "for data in svm_test :\n",
        "    gerar_matriz_confusao(data)\n",
        "    print(data['params'])"
      ],
      "metadata": {
        "id": "1TTR4MtVaCkL"
      },
      "execution_count": null,
      "outputs": []
    },
    {
      "cell_type": "code",
      "source": [
        "for data in mlp_test :\n",
        "    gerar_matriz_confusao(data)\n",
        "    print(data['params'])"
      ],
      "metadata": {
        "id": "ZXsmoYCahQ3g"
      },
      "execution_count": null,
      "outputs": []
    },
    {
      "cell_type": "code",
      "source": [
        "for data in rf_test :\n",
        "    gerar_matriz_confusao(data)\n",
        "    print(data['params'])"
      ],
      "metadata": {
        "id": "07qyMGPxheVA"
      },
      "execution_count": null,
      "outputs": []
    },
    {
      "cell_type": "code",
      "source": [
        "for data in knn_test :\n",
        "    gerar_matriz_confusao(data)\n",
        "    print(data['params'])"
      ],
      "metadata": {
        "id": "taUYd4PuhiCY"
      },
      "execution_count": null,
      "outputs": []
    },
    {
      "source": [
        "import matplotlib.pyplot as plt\n",
        "import numpy as np\n",
        "import pandas as pd\n",
        "import seaborn as sns\n",
        "from sklearn.metrics import confusion_matrix\n",
        "\n",
        "def get_metrics_per_class(data, class_names=None):\n",
        "    y_pred = data[\"y_pred\"]\n",
        "    y_val = data[\"y_val\"]\n",
        "    cm = confusion_matrix(y_val, y_pred)\n",
        "\n",
        "    metrics = {}\n",
        "    for i in range(cm.shape[0]):\n",
        "        tp = cm[i, i]\n",
        "        fp = cm[:, i].sum() - tp\n",
        "        fn = cm[i, :].sum() - tp\n",
        "        tn = cm.sum() - (tp + fp + fn)\n",
        "\n",
        "        class_label = class_names[i] if class_names else f\"Classe {i}\"\n",
        "        metrics[class_label] = {\"TP\": tp, \"TN\": tn, \"FP\": fp, \"FN\": fn}\n",
        "\n",
        "    return metrics\n",
        "\n",
        "def plot_metrics_heatmap(metrics_data, title=\"Mapa de Calor de Métricas por Classe\"):\n",
        "    # Converter o dicionário de métricas para um DataFrame do pandas\n",
        "    metrics_df = pd.DataFrame(metrics_data).T\n",
        "\n",
        "    plt.figure(figsize=(10, 6))\n",
        "    sns.heatmap(metrics_df, annot=True, fmt=\"d\", cmap=\"Blues\")\n",
        "    plt.title(title)\n",
        "    plt.xlabel(\"Métrica\")\n",
        "    plt.ylabel(\"Classe\")\n",
        "    plt.show()\n",
        "\n",
        "# Exemplo de uso com seus dados de teste para SVM\n",
        "for data in svm_test:\n",
        "    metrics_per_class = get_metrics_per_class(data)\n",
        "    plot_metrics_heatmap(metrics_per_class, title=f\"SVM - Parâmetros: {data['params']}\")\n",
        "\n",
        "# Repita para mlp_test, rf_test, knn_test conforme necessário\n",
        "for data in mlp_test:\n",
        "    metrics_per_class = get_metrics_per_class(data)\n",
        "    plot_metrics_heatmap(metrics_per_class, title=f\"MLP - Parâmetros: {data['params']}\")\n",
        "\n",
        "for data in rf_test:\n",
        "    metrics_per_class = get_metrics_per_class(data)\n",
        "    plot_metrics_heatmap(metrics_per_class, title=f\"Random Forest - Parâmetros: {data['params']}\")\n",
        "\n",
        "for data in knn_test:\n",
        "    metrics_per_class = get_metrics_per_class(data)\n",
        "    plot_metrics_heatmap(metrics_per_class, title=f\"KNN - Parâmetros: {data['params']}\")"
      ],
      "cell_type": "code",
      "metadata": {
        "id": "wAGVx-qLaKYl"
      },
      "execution_count": null,
      "outputs": []
    }
  ]
}